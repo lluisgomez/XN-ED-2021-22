{
 "cells": [
  {
   "cell_type": "markdown",
   "metadata": {
    "colab_type": "text",
    "id": "view-in-github"
   },
   "source": [
    "<a href=\"https://colab.research.google.com/github/dkaratzas/XNAP_Profs/blob/main/W04_01_MLP_for_Images.ipynb\" target=\"_parent\"><img src=\"https://colab.research.google.com/assets/colab-badge.svg\" alt=\"Open In Colab\"/></a>"
   ]
  },
  {
   "cell_type": "markdown",
   "metadata": {},
   "source": [
    "# MLP for image classification\n",
    "\n",
    "In this notebook we are going to learn how to use a Multi-Layer Perceptron (MLP) for clasifing images. \n",
    "\n",
    "A MLP like the ones you used in the notebook of last week can be used with any kind of input data if we can represent it with a vector of real numbers. The shape of the input vector determines the size of the first layer in the model. In the case of images (2d arrays of pixel values) we can get fixed-lenght vectors by: (1) using images of the same size in all our dataset, and (2) flatenning the images into a 1d array. The flatten operation collapses an array into one dimension. For example, if we have a grayscale image of 28*28 pixels, its flattened version is a 1d array of 784 pixel values. Now we can fed these 784 values into a MLP for classifiying the image."
   ]
  },
  {
   "cell_type": "markdown",
   "metadata": {},
   "source": [
    "### Import the necessary libraries"
   ]
  },
  {
   "cell_type": "code",
   "execution_count": 1,
   "metadata": {
    "id": "YIr2ty0tFA4C"
   },
   "outputs": [],
   "source": [
    "import torch #should be installed by default in any colab notebook\n",
    "import numpy as np\n",
    "import matplotlib.pyplot as plt\n",
    "from IPython import display\n",
    "import torch.nn as nn\n",
    "import torch.nn.functional as F\n",
    "import torch.optim as optim\n",
    "from torchvision import datasets, transforms\n",
    "import matplotlib.pyplot as plt"
   ]
  },
  {
   "cell_type": "markdown",
   "metadata": {},
   "source": [
    "### Use GPU if available"
   ]
  },
  {
   "cell_type": "code",
   "execution_count": 2,
   "metadata": {
    "id": "gWLIxo9Oigfo"
   },
   "outputs": [],
   "source": [
    "# If this cell fails you need to change the runtime of your colab notebook to GPU\n",
    "# Go to Runtime -> Change Runtime Type and select GPU\n",
    "assert torch.cuda.is_available(), \"GPU is not enabled\"\n",
    "\n",
    "# use gpu if available\n",
    "device = torch.device(\"cuda:0\" if torch.cuda.is_available() else \"cpu\")"
   ]
  },
  {
   "cell_type": "markdown",
   "metadata": {
    "id": "eI_YXyigdTUC"
   },
   "source": [
    "## The Fashion-MNIST dataset\n",
    "\n",
    "[**Fashion-MNIST**](https://pytorch.org/vision/0.8/datasets.html#fashion-mnist) is a dataset consisting of a training set of 60,000 examples and a test set of 10,000 examples. Each example is a 28x28 grayscale image, associated with a label from 10 classes. It was poroposed as a direct drop-in replacement for the original MNIST dataset for benchmarking machine learning algorithms. It shares the same image size and structure of training and testing splits.\n",
    "\n",
    "Each training and test example is assigned to one of the following labels: 0 T-shirt/top, 1 Trouser, 2 Pullover, 3 Dress, 4 Coat, 5 Sandal, 6 Shirt, 7 Sneaker, 8 Bag, 9 Ankle boot.\n",
    "\n",
    "The Fashion-MNIST dataset is available in [torchvision](https://pytorch.org/vision/stable/index.html) and can be loaded with the following code:\n"
   ]
  },
  {
   "cell_type": "code",
   "execution_count": 3,
   "metadata": {
    "id": "m7kr-LrSZK7h"
   },
   "outputs": [
    {
     "name": "stdout",
     "output_type": "stream",
     "text": [
      "torch.Size([60000, 28, 28]) torch.Size([10000, 28, 28])\n",
      "torch.Size([60000]) torch.Size([10000])\n"
     ]
    }
   ],
   "source": [
    "train_set = datasets.FashionMNIST(\"data\", train=True, download=True, transform=transforms.Compose([transforms.ToTensor()]))\n",
    "val_set = datasets.FashionMNIST(\"data\", train=False, download=True, transform=transforms.Compose([transforms.ToTensor()]))\n",
    "\n",
    "print(train_set.data.size(), val_set.data.size())\n",
    "print(train_set.targets.size(), val_set.targets.size())"
   ]
  },
  {
   "cell_type": "code",
   "execution_count": 4,
   "metadata": {},
   "outputs": [
    {
     "data": {
      "image/png": "[encoded data removed]",
      "text/plain": [
       "<Figure size 1152x432 with 10 Axes>"
      ]
     },
     "metadata": {
      "needs_background": "light"
     },
     "output_type": "display_data"
    }
   ],
   "source": [
    "# show some images\n",
    "plt.figure(figsize=(16, 6))\n",
    "for i in range(10):\n",
    "    plt.subplot(2, 5, i + 1)\n",
    "    image = train_set.data[i,...]\n",
    "    plt.imshow(image.squeeze().numpy(), cmap=\"gray\")\n",
    "    plt.axis('off');"
   ]
  },
  {
   "cell_type": "markdown",
   "metadata": {},
   "source": [
    "## The dataloaders\n",
    "\n",
    "Now we introduce a **critical piece in any deep learning training process**: the dataloader. In Pytorch we can create a dataloader for a given dataset as follows:\n"
   ]
  },
  {
   "cell_type": "code",
   "execution_count": 5,
   "metadata": {},
   "outputs": [],
   "source": [
    "train_loader = torch.utils.data.DataLoader(train_set, batch_size=1, shuffle=False, num_workers=0)\n",
    "val_loader = torch.utils.data.DataLoader(val_set, batch_size=1, shuffle=False, num_workers=0)"
   ]
  },
  {
   "cell_type": "markdown",
   "metadata": {
    "id": "8KiB18s1a1e0"
   },
   "source": [
    "# Exercise 1\n",
    "\n",
    "1.1. Take a look at the documentation of [torch.utils.data.DataLoader](https://pytorch.org/docs/stable/data.html?highlight=dataloader#torch.utils.data.DataLoader) and answer the following questions:\n",
    "\n",
    "- What are the benefits of a dataloader?\n",
    "- How can we make the dataloaders defined above better? \n",
    "\n",
    "1.2. When we loaded the Fashion-MNIST dataset we used the method `transforms.Compose`. Take a look at the documentation of [torchvision.transforms](https://pytorch.org/vision/0.8/transforms.html?highlight=transforms) and answer the following question:\n",
    "\n",
    "- Is there another transform that we can add to make our classification problem easier?"
   ]
  },
  {
   "cell_type": "code",
   "execution_count": 6,
   "metadata": {},
   "outputs": [],
   "source": [
    "transform = transforms.Compose([transforms.ToTensor(),\n",
    "                                transforms.Normalize((0.2860,), (0.3205,))])\n",
    "\n",
    "train_set = datasets.FashionMNIST(\"data\", train=True, download=True, transform=transforms.Compose([transforms.ToTensor()]))\n",
    "val_set = datasets.FashionMNIST(\"data\", train=False, download=True, transform=transforms.Compose([transforms.ToTensor()]))\n",
    "\n",
    "train_loader = torch.utils.data.DataLoader(train_set, batch_size=32, shuffle=True, num_workers=5)\n",
    "val_loader = torch.utils.data.DataLoader(val_set, batch_size=32, shuffle=True, num_workers=5)"
   ]
  },
  {
   "cell_type": "markdown",
   "metadata": {
    "id": "e-WSDzgqcsY4"
   },
   "source": [
    "# Exersice 2\n",
    "\n",
    "Modify your best performing architecture from last week notebook and create a class model that can work for any input and output size (using the `__init__()` class constructor parameters)"
   ]
  },
  {
   "cell_type": "markdown",
   "metadata": {
    "id": "VyEjLgfjrWzs"
   },
   "source": [
    "### Fully connected model"
   ]
  },
  {
   "cell_type": "code",
   "execution_count": 7,
   "metadata": {
    "id": "uvfwZqcPoAdT"
   },
   "outputs": [],
   "source": [
    "\n",
    "class FCModel(nn.Module):\n",
    "    def __init__(self, input_size, n_hidden, output_size):\n",
    "        super(FCModel, self).__init__()\n",
    "        self.input_size = input_size\n",
    "        self.network = nn.Sequential(\n",
    "            # Your code here\n",
    "            nn.Linear(input_size, n_hidden), \n",
    "            nn.ReLU(), \n",
    "            nn.Linear(n_hidden, n_hidden), \n",
    "            nn.ReLU(), \n",
    "            nn.Linear(n_hidden, output_size),\n",
    "        )\n",
    "\n",
    "    def forward(self, x):\n",
    "        x = x.view(-1, self.input_size)\n",
    "        return self.network(x)"
   ]
  },
  {
   "cell_type": "markdown",
   "metadata": {},
   "source": [
    "## Parameter Initialization\n",
    "\n",
    "In PyTorch the default parameter initialization depends on the layer type. For example, for the Linear layer the default initialization is defined [here](https://github.com/pytorch/pytorch/blob/master/torch/nn/modules/linear.py#L87). Take a look and see if you recognize the initialization method.\n",
    "\n",
    "You can find more initialization methods in the [`torch.nn.init`](https://pytorch.org/docs/stable/nn.init.html?highlight=init) module.\n",
    "\n",
    "If necessary, you can change the default initialization of a layer as follows:"
   ]
  },
  {
   "cell_type": "code",
   "execution_count": 8,
   "metadata": {
    "id": "HLSfT6eZcXTI"
   },
   "outputs": [],
   "source": [
    "def initialize_parameters(model):\n",
    "    for name, w in model.named_parameters():\n",
    "        if \"weight\" in name:\n",
    "            nn.init.ones_(w)\n",
    "        \n",
    "        if \"bias\" in name:\n",
    "            nn.init.zeros_(w)   "
   ]
  },
  {
   "cell_type": "markdown",
   "metadata": {},
   "source": [
    "## Create the model and initialize its parameters"
   ]
  },
  {
   "cell_type": "code",
   "execution_count": 9,
   "metadata": {
    "id": "oAoS_kiRZPYT"
   },
   "outputs": [
    {
     "name": "stdout",
     "output_type": "stream",
     "text": [
      "Number of parameters 118282:\n"
     ]
    }
   ],
   "source": [
    "learning_rate = 1e-3\n",
    "lambda_l2 = 1e-5\n",
    "torch.manual_seed(0) # seed for reproductibility\n",
    "\n",
    "input_size  = 28*28   # images are 28x28 pixels\n",
    "output_size = 10      # there are 10 classes\n",
    "\n",
    "model = FCModel(input_size, 128, output_size)\n",
    "\n",
    "# utility function to count number of parameters in a model\n",
    "def get_n_params(model):\n",
    "    np=0\n",
    "    for p in list(model.parameters()):\n",
    "        np += p.numel()\n",
    "    return np\n",
    "\n",
    "print(f\"Number of parameters {get_n_params(model)}:\")\n",
    "\n",
    "# move model to gpu if available\n",
    "model.to(device)\n",
    "\n",
    "# nn package also has different loss functions.\n",
    "# we use cross entropy loss for our classification task\n",
    "criterion = torch.nn.CrossEntropyLoss() # https://pytorch.org/docs/stable/generated/torch.nn.CrossEntropyLoss.html#torch.nn.CrossEntropyLoss\n",
    "\n",
    "# we use the optim package to apply\n",
    "# stochastic gradient descent for our parameter updates\n",
    "optimizer = torch.optim.SGD(model.parameters(), lr=learning_rate, momentum=0.9, weight_decay=lambda_l2) # built-in L2\n",
    "\n",
    "# WARNING! What are we doing here?\n",
    "initialize_parameters(model)"
   ]
  },
  {
   "cell_type": "markdown",
   "metadata": {},
   "source": [
    "## Define the train and validation methods"
   ]
  },
  {
   "cell_type": "code",
   "execution_count": 10,
   "metadata": {
    "id": "voDADNIzj4wV"
   },
   "outputs": [],
   "source": [
    "@torch.no_grad()  # prevent this function from computing gradients \n",
    "def validate(criterion, model, loader):\n",
    "\n",
    "    val_loss = 0\n",
    "    correct = 0\n",
    "\n",
    "    model.eval()\n",
    "\n",
    "    for data, target in loader:\n",
    "\n",
    "        data, target = data.to(device), target.to(device)\n",
    "\n",
    "        data = data.view(-1, 28*28)\n",
    "        output = model(data)\n",
    "        loss = criterion(output, target)\n",
    "        val_loss += loss.item()                                                              \n",
    "        pred = output.data.max(1, keepdim=True)[1] # get the index of the max log-probability                                                                 \n",
    "        correct += pred.eq(target.view_as(pred)).sum().item()\n",
    "\n",
    "    val_loss /= len(loader.dataset)\n",
    "    accuracy = 100. * correct / len(loader.dataset)\n",
    "    print('\\nTest set: Average loss: {:.4f}, Accuracy: {}/{} ({:.0f}%)\\n'.format(\n",
    "        val_loss, correct, len(loader.dataset),\n",
    "        accuracy))\n",
    "\n",
    "\n",
    "    return val_loss\n",
    "\n",
    "\n",
    "def train(epoch, criterion, model, optimizer, loader):\n",
    "    \n",
    "    total_loss = 0.0\n",
    "\n",
    "    model.train()\n",
    "\n",
    "    for batch_idx, (data, target) in enumerate(loader):\n",
    "        \n",
    "        optimizer.zero_grad()\n",
    "\n",
    "        data, target = data.to(device), target.to(device)\n",
    "\n",
    "        data = data.view(-1, 28*28)\n",
    "\n",
    "        output = model(data)\n",
    "        loss = criterion(output, target)\n",
    "        loss.backward()\n",
    "        optimizer.step()\n",
    "        \n",
    "        # print loss every N iterations\n",
    "        if batch_idx % 100 == 0:\n",
    "            print('Train Epoch: {} [{}/{} ({:.0f}%)]\\tLoss: {:.6f}'.format(\n",
    "                epoch, batch_idx * len(data), len(loader.dataset),\n",
    "                100. * batch_idx / len(loader), loss.item()))\n",
    "\n",
    "\n",
    "        total_loss += loss.item()  #.item() is very important here? Why?\n",
    "\n",
    "    return total_loss / len(loader.dataset)"
   ]
  },
  {
   "cell_type": "markdown",
   "metadata": {
    "id": "_Prc0qFO0SR5"
   },
   "source": [
    "### The training loop"
   ]
  },
  {
   "cell_type": "code",
   "execution_count": 11,
   "metadata": {
    "id": "psBKsIFAtkXQ"
   },
   "outputs": [
    {
     "data": {
      "image/png": "[encoded data removed]",
      "text/plain": [
       "<Figure size 432x288 with 1 Axes>"
      ]
     },
     "metadata": {
      "needs_background": "light"
     },
     "output_type": "display_data"
    }
   ],
   "source": [
    "losses = {\"train\": [], \"val\": []}\n",
    "for epoch in range(10):\n",
    "\n",
    "    train_loss = train(epoch, criterion, model, optimizer, train_loader)\n",
    "    val_loss = validate(criterion, model, val_loader)\n",
    "    losses[\"train\"].append(train_loss)\n",
    "    losses[\"val\"].append(val_loss)\n",
    "    \n",
    "    display.clear_output(wait=True)\n",
    "\n",
    "    plt.plot(losses[\"train\"], label=\"training loss\")\n",
    "    plt.plot(losses[\"val\"], label=\"validation loss\")\n",
    "\n",
    "    plt.legend()\n",
    "    plt.pause(0.000001)\n",
    "    plt.show()   "
   ]
  },
  {
   "cell_type": "markdown",
   "metadata": {
    "id": "EcgjBWogo1N1"
   },
   "source": [
    "# Homework\n",
    "\n",
    "A) Change the initialization of the model parameters (this will help a great deal) and train your model on the Fashion-MNIST dataset.\n",
    "\n"
   ]
  },
  {
   "cell_type": "code",
   "execution_count": 12,
   "metadata": {},
   "outputs": [],
   "source": [
    "# Parameter initialization with the Kaiming method \n",
    "\n",
    "def initialize_parameters(model):\n",
    "    for name, w in model.named_parameters():\n",
    "        if \"weight\" in name:\n",
    "            nn.init.kaiming_uniform_(w, nonlinearity='relu')\n",
    "        \n",
    "        if \"bias\" in name:\n",
    "            nn.init.zeros_(w)\n",
    "            \n",
    "\n",
    "learning_rate = 1e-3\n",
    "lambda_l2 = 1e-5\n",
    "torch.manual_seed(0) # seed for reproductibility\n",
    "\n",
    "input_size  = 28*28   # images are 28x28 pixels\n",
    "output_size = 10      # there are 10 classes\n",
    "\n",
    "model = FCModel(input_size, 128, output_size)\n",
    "\n",
    "# move model to gpu if available\n",
    "model.to(device)\n",
    "\n",
    "# we use cross entropy loss for our classification task\n",
    "criterion = torch.nn.CrossEntropyLoss() # https://pytorch.org/docs/stable/generated/torch.nn.CrossEntropyLoss.html#torch.nn.CrossEntropyLoss\n",
    "\n",
    "# stochastic gradient descent for our parameter updates\n",
    "optimizer = torch.optim.SGD(model.parameters(), lr=learning_rate, momentum=0.9, weight_decay=lambda_l2) # built-in L2\n",
    "\n",
    "# initialize parameters with our own method\n",
    "initialize_parameters(model)"
   ]
  },
  {
   "cell_type": "code",
   "execution_count": 13,
   "metadata": {},
   "outputs": [
    {
     "data": {
      "image/png": "[encoded data removed]",
      "text/plain": [
       "<Figure size 432x288 with 1 Axes>"
      ]
     },
     "metadata": {
      "needs_background": "light"
     },
     "output_type": "display_data"
    }
   ],
   "source": [
    "# the training loop\n",
    "\n",
    "losses = {\"train\": [], \"val\": []}\n",
    "for epoch in range(10):\n",
    "\n",
    "    train_loss = train(epoch, criterion, model, optimizer, train_loader)\n",
    "    val_loss = validate(criterion, model, val_loader)\n",
    "    losses[\"train\"].append(train_loss)\n",
    "    losses[\"val\"].append(val_loss)\n",
    "    \n",
    "    display.clear_output(wait=True)\n",
    "\n",
    "    plt.plot(losses[\"train\"], label=\"training loss\")\n",
    "    plt.plot(losses[\"val\"], label=\"validation loss\")\n",
    "\n",
    "    plt.legend()\n",
    "    plt.pause(0.000001)\n",
    "    plt.show()   "
   ]
  },
  {
   "cell_type": "code",
   "execution_count": 14,
   "metadata": {},
   "outputs": [
    {
     "name": "stdout",
     "output_type": "stream",
     "text": [
      "\n",
      "Test set: Average loss: 0.0116, Accuracy: 8670/10000 (87%)\n",
      "\n"
     ]
    }
   ],
   "source": [
    "# evaluate the trained model on the validation set\n",
    "_ = validate(criterion, model, val_loader)"
   ]
  },
  {
   "cell_type": "markdown",
   "metadata": {},
   "source": [
    "B) Try to improve the Accuracy of your model on the validation set by adding more layers and/or more hidden units in you model. For example you can use a MLP with 2 hidden layers with 512 and 256 units respectively."
   ]
  },
  {
   "cell_type": "code",
   "execution_count": 15,
   "metadata": {},
   "outputs": [],
   "source": [
    "# There are many possible configurations here\n",
    "# In this example we use a model with three layers (with 256, 128, 64 neurons) \n",
    "# we also increase the batch size to 200 and the learning rate to 0.1\n",
    "\n",
    "\n",
    "class FCModel2(nn.Module):\n",
    "    def __init__(self, input_size, n_hidden, output_size):\n",
    "        super(FCModel2, self).__init__()\n",
    "        self.input_size = input_size\n",
    "        self.network = nn.Sequential(\n",
    "            # Your code here\n",
    "            nn.Linear(input_size, n_hidden[0]), \n",
    "            nn.ReLU(), \n",
    "            nn.Linear(n_hidden[0], n_hidden[1]), \n",
    "            nn.ReLU(), \n",
    "            nn.Linear(n_hidden[1], n_hidden[2]), \n",
    "            nn.ReLU(), \n",
    "            nn.Linear(n_hidden[2], output_size),\n",
    "        )\n",
    "\n",
    "    def forward(self, x):\n",
    "        x = x.view(-1, self.input_size)\n",
    "        return self.network(x)\n",
    "\n",
    "    \n",
    "train_loader = torch.utils.data.DataLoader(train_set, batch_size=200, shuffle=True, num_workers=5)\n",
    "val_loader = torch.utils.data.DataLoader(val_set, batch_size=200, shuffle=True, num_workers=5)\n",
    "\n",
    "learning_rate = 0.1\n",
    "lambda_l2 = 1e-5\n",
    "torch.manual_seed(0) # seed for reproductibility\n",
    "\n",
    "input_size  = 28*28   # images are 28x28 pixels\n",
    "output_size = 10      # there are 10 classes\n",
    "\n",
    "model = FCModel2(input_size, (256,128,64), output_size)\n",
    "\n",
    "# move model to gpu if available\n",
    "model.to(device)\n",
    "\n",
    "# we use cross entropy loss for our classification task\n",
    "criterion = torch.nn.CrossEntropyLoss() # https://pytorch.org/docs/stable/generated/torch.nn.CrossEntropyLoss.html#torch.nn.CrossEntropyLoss\n",
    "\n",
    "# stochastic gradient descent for our parameter updates\n",
    "optimizer = torch.optim.SGD(model.parameters(), lr=learning_rate, momentum=0.8, weight_decay=lambda_l2) # built-in L2\n",
    "\n",
    "\n",
    "# initialize parameters with our own method\n",
    "initialize_parameters(model)"
   ]
  },
  {
   "cell_type": "code",
   "execution_count": 16,
   "metadata": {},
   "outputs": [
    {
     "data": {
      "image/png": "[encoded data removed]",
      "text/plain": [
       "<Figure size 432x288 with 1 Axes>"
      ]
     },
     "metadata": {
      "needs_background": "light"
     },
     "output_type": "display_data"
    }
   ],
   "source": [
    "# the training loop\n",
    "\n",
    "losses = {\"train\": [], \"val\": []}\n",
    "for epoch in range(25):\n",
    "\n",
    "    train_loss = train(epoch, criterion, model, optimizer, train_loader)\n",
    "    val_loss = validate(criterion, model, val_loader)\n",
    "    \n",
    "     \n",
    "    losses[\"train\"].append(train_loss)\n",
    "    losses[\"val\"].append(val_loss)\n",
    "    \n",
    "    display.clear_output(wait=True)\n",
    "\n",
    "    plt.plot(losses[\"train\"], label=\"training loss\")\n",
    "    plt.plot(losses[\"val\"], label=\"validation loss\")\n",
    "\n",
    "    plt.legend()\n",
    "    plt.pause(0.000001)\n",
    "    plt.show()   "
   ]
  },
  {
   "cell_type": "code",
   "execution_count": 17,
   "metadata": {},
   "outputs": [
    {
     "name": "stdout",
     "output_type": "stream",
     "text": [
      "\n",
      "Test set: Average loss: 0.0017, Accuracy: 8909/10000 (89%)\n",
      "\n"
     ]
    }
   ],
   "source": [
    "# evaluate the trained model on the validation set\n",
    "_ = validate(criterion, model, val_loader)"
   ]
  },
  {
   "cell_type": "markdown",
   "metadata": {},
   "source": [
    "C) Try at least two different [optimizers](https://pytorch.org/docs/stable/optim.html#algorithms) (e.g. SGD with momentum, RMSProp, Adam, etc.) and plot **in a single matplotlib figure** the loss curves for training the model with them. We want them in a single figure to be able to easily compare the three learning curves."
   ]
  },
  {
   "cell_type": "code",
   "execution_count": 18,
   "metadata": {},
   "outputs": [
    {
     "name": "stdout",
     "output_type": "stream",
     "text": [
      "Train Epoch: 0 [0/60000 (0%)]\tLoss: 2.307561\n",
      "Train Epoch: 0 [20000/60000 (33%)]\tLoss: 0.682018\n",
      "Train Epoch: 0 [40000/60000 (67%)]\tLoss: 0.574340\n",
      "\n",
      "Test set: Average loss: 0.0026, Accuracy: 8215/10000 (82%)\n",
      "\n",
      "Train Epoch: 1 [0/60000 (0%)]\tLoss: 0.524982\n",
      "Train Epoch: 1 [20000/60000 (33%)]\tLoss: 0.604702\n",
      "Train Epoch: 1 [40000/60000 (67%)]\tLoss: 0.498099\n",
      "\n",
      "Test set: Average loss: 0.0027, Accuracy: 7940/10000 (79%)\n",
      "\n",
      "Train Epoch: 2 [0/60000 (0%)]\tLoss: 0.510327\n",
      "Train Epoch: 2 [20000/60000 (33%)]\tLoss: 0.450668\n",
      "Train Epoch: 2 [40000/60000 (67%)]\tLoss: 0.459810\n",
      "\n",
      "Test set: Average loss: 0.0021, Accuracy: 8417/10000 (84%)\n",
      "\n",
      "Train Epoch: 3 [0/60000 (0%)]\tLoss: 0.473781\n",
      "Train Epoch: 3 [20000/60000 (33%)]\tLoss: 0.418437\n",
      "Train Epoch: 3 [40000/60000 (67%)]\tLoss: 0.349621\n",
      "\n",
      "Test set: Average loss: 0.0022, Accuracy: 8489/10000 (85%)\n",
      "\n",
      "Train Epoch: 4 [0/60000 (0%)]\tLoss: 0.324488\n",
      "Train Epoch: 4 [20000/60000 (33%)]\tLoss: 0.336788\n",
      "Train Epoch: 4 [40000/60000 (67%)]\tLoss: 0.421580\n",
      "\n",
      "Test set: Average loss: 0.0022, Accuracy: 8471/10000 (85%)\n",
      "\n",
      "Train Epoch: 5 [0/60000 (0%)]\tLoss: 0.421373\n",
      "Train Epoch: 5 [20000/60000 (33%)]\tLoss: 0.322243\n",
      "Train Epoch: 5 [40000/60000 (67%)]\tLoss: 0.324163\n",
      "\n",
      "Test set: Average loss: 0.0021, Accuracy: 8527/10000 (85%)\n",
      "\n",
      "Train Epoch: 6 [0/60000 (0%)]\tLoss: 0.312883\n",
      "Train Epoch: 6 [20000/60000 (33%)]\tLoss: 0.292612\n",
      "Train Epoch: 6 [40000/60000 (67%)]\tLoss: 0.349020\n",
      "\n",
      "Test set: Average loss: 0.0022, Accuracy: 8467/10000 (85%)\n",
      "\n",
      "Train Epoch: 7 [0/60000 (0%)]\tLoss: 0.368346\n",
      "Train Epoch: 7 [20000/60000 (33%)]\tLoss: 0.302711\n",
      "Train Epoch: 7 [40000/60000 (67%)]\tLoss: 0.443442\n",
      "\n",
      "Test set: Average loss: 0.0020, Accuracy: 8593/10000 (86%)\n",
      "\n",
      "Train Epoch: 8 [0/60000 (0%)]\tLoss: 0.316619\n",
      "Train Epoch: 8 [20000/60000 (33%)]\tLoss: 0.412984\n",
      "Train Epoch: 8 [40000/60000 (67%)]\tLoss: 0.388362\n",
      "\n",
      "Test set: Average loss: 0.0021, Accuracy: 8552/10000 (86%)\n",
      "\n",
      "Train Epoch: 9 [0/60000 (0%)]\tLoss: 0.367311\n",
      "Train Epoch: 9 [20000/60000 (33%)]\tLoss: 0.348431\n",
      "Train Epoch: 9 [40000/60000 (67%)]\tLoss: 0.348584\n",
      "\n",
      "Test set: Average loss: 0.0021, Accuracy: 8537/10000 (85%)\n",
      "\n",
      "Train Epoch: 10 [0/60000 (0%)]\tLoss: 0.337573\n",
      "Train Epoch: 10 [20000/60000 (33%)]\tLoss: 0.456157\n",
      "Train Epoch: 10 [40000/60000 (67%)]\tLoss: 0.344357\n",
      "\n",
      "Test set: Average loss: 0.0031, Accuracy: 7962/10000 (80%)\n",
      "\n",
      "Train Epoch: 11 [0/60000 (0%)]\tLoss: 0.621930\n",
      "Train Epoch: 11 [20000/60000 (33%)]\tLoss: 0.278195\n",
      "Train Epoch: 11 [40000/60000 (67%)]\tLoss: 0.289254\n",
      "\n",
      "Test set: Average loss: 0.0021, Accuracy: 8560/10000 (86%)\n",
      "\n",
      "Train Epoch: 12 [0/60000 (0%)]\tLoss: 0.405478\n",
      "Train Epoch: 12 [20000/60000 (33%)]\tLoss: 0.457523\n",
      "Train Epoch: 12 [40000/60000 (67%)]\tLoss: 0.328250\n",
      "\n",
      "Test set: Average loss: 0.0020, Accuracy: 8692/10000 (87%)\n",
      "\n",
      "Train Epoch: 13 [0/60000 (0%)]\tLoss: 0.260373\n",
      "Train Epoch: 13 [20000/60000 (33%)]\tLoss: 0.268391\n",
      "Train Epoch: 13 [40000/60000 (67%)]\tLoss: 0.244447\n",
      "\n",
      "Test set: Average loss: 0.0020, Accuracy: 8638/10000 (86%)\n",
      "\n",
      "Train Epoch: 14 [0/60000 (0%)]\tLoss: 0.315566\n",
      "Train Epoch: 14 [20000/60000 (33%)]\tLoss: 0.342122\n",
      "Train Epoch: 14 [40000/60000 (67%)]\tLoss: 0.406307\n",
      "\n",
      "Test set: Average loss: 0.0020, Accuracy: 8653/10000 (87%)\n",
      "\n",
      "Train Epoch: 15 [0/60000 (0%)]\tLoss: 0.330826\n",
      "Train Epoch: 15 [20000/60000 (33%)]\tLoss: 0.279499\n",
      "Train Epoch: 15 [40000/60000 (67%)]\tLoss: 0.358232\n",
      "\n",
      "Test set: Average loss: 0.0020, Accuracy: 8681/10000 (87%)\n",
      "\n",
      "Train Epoch: 16 [0/60000 (0%)]\tLoss: 0.235602\n",
      "Train Epoch: 16 [20000/60000 (33%)]\tLoss: 0.327583\n",
      "Train Epoch: 16 [40000/60000 (67%)]\tLoss: 0.315513\n",
      "\n",
      "Test set: Average loss: 0.0020, Accuracy: 8705/10000 (87%)\n",
      "\n",
      "Train Epoch: 17 [0/60000 (0%)]\tLoss: 0.327024\n",
      "Train Epoch: 17 [20000/60000 (33%)]\tLoss: 0.258789\n",
      "Train Epoch: 17 [40000/60000 (67%)]\tLoss: 0.257061\n",
      "\n",
      "Test set: Average loss: 0.0019, Accuracy: 8721/10000 (87%)\n",
      "\n",
      "Train Epoch: 18 [0/60000 (0%)]\tLoss: 0.292921\n",
      "Train Epoch: 18 [20000/60000 (33%)]\tLoss: 0.232037\n",
      "Train Epoch: 18 [40000/60000 (67%)]\tLoss: 0.249802\n",
      "\n",
      "Test set: Average loss: 0.0019, Accuracy: 8700/10000 (87%)\n",
      "\n",
      "Train Epoch: 19 [0/60000 (0%)]\tLoss: 0.234547\n",
      "Train Epoch: 19 [20000/60000 (33%)]\tLoss: 0.487252\n",
      "Train Epoch: 19 [40000/60000 (67%)]\tLoss: 0.293887\n",
      "\n",
      "Test set: Average loss: 0.0019, Accuracy: 8719/10000 (87%)\n",
      "\n",
      "Train Epoch: 20 [0/60000 (0%)]\tLoss: 0.338358\n",
      "Train Epoch: 20 [20000/60000 (33%)]\tLoss: 0.284267\n",
      "Train Epoch: 20 [40000/60000 (67%)]\tLoss: 0.327182\n",
      "\n",
      "Test set: Average loss: 0.0020, Accuracy: 8715/10000 (87%)\n",
      "\n",
      "Train Epoch: 21 [0/60000 (0%)]\tLoss: 0.281256\n",
      "Train Epoch: 21 [20000/60000 (33%)]\tLoss: 0.282462\n",
      "Train Epoch: 21 [40000/60000 (67%)]\tLoss: 0.302179\n",
      "\n",
      "Test set: Average loss: 0.0020, Accuracy: 8662/10000 (87%)\n",
      "\n",
      "Train Epoch: 22 [0/60000 (0%)]\tLoss: 0.279565\n",
      "Train Epoch: 22 [20000/60000 (33%)]\tLoss: 0.314411\n",
      "Train Epoch: 22 [40000/60000 (67%)]\tLoss: 0.453443\n",
      "\n",
      "Test set: Average loss: 0.0023, Accuracy: 8510/10000 (85%)\n",
      "\n",
      "Train Epoch: 23 [0/60000 (0%)]\tLoss: 0.357347\n",
      "Train Epoch: 23 [20000/60000 (33%)]\tLoss: 0.295632\n",
      "Train Epoch: 23 [40000/60000 (67%)]\tLoss: 0.424498\n",
      "\n",
      "Test set: Average loss: 0.0022, Accuracy: 8585/10000 (86%)\n",
      "\n",
      "Train Epoch: 24 [0/60000 (0%)]\tLoss: 0.359858\n",
      "Train Epoch: 24 [20000/60000 (33%)]\tLoss: 0.398808\n",
      "Train Epoch: 24 [40000/60000 (67%)]\tLoss: 0.243679\n",
      "\n",
      "Test set: Average loss: 0.0020, Accuracy: 8763/10000 (88%)\n",
      "\n",
      "Train Epoch: 0 [0/60000 (0%)]\tLoss: 2.307561\n",
      "Train Epoch: 0 [20000/60000 (33%)]\tLoss: 0.571476\n",
      "Train Epoch: 0 [40000/60000 (67%)]\tLoss: 0.479512\n",
      "\n",
      "Test set: Average loss: 0.0024, Accuracy: 8283/10000 (83%)\n",
      "\n",
      "Train Epoch: 1 [0/60000 (0%)]\tLoss: 0.481313\n",
      "Train Epoch: 1 [20000/60000 (33%)]\tLoss: 0.534445\n",
      "Train Epoch: 1 [40000/60000 (67%)]\tLoss: 0.446387\n",
      "\n",
      "Test set: Average loss: 0.0021, Accuracy: 8567/10000 (86%)\n",
      "\n",
      "Train Epoch: 2 [0/60000 (0%)]\tLoss: 0.398468\n",
      "Train Epoch: 2 [20000/60000 (33%)]\tLoss: 0.380742\n",
      "Train Epoch: 2 [40000/60000 (67%)]\tLoss: 0.388336\n",
      "\n",
      "Test set: Average loss: 0.0020, Accuracy: 8579/10000 (86%)\n",
      "\n",
      "Train Epoch: 3 [0/60000 (0%)]\tLoss: 0.448554\n",
      "Train Epoch: 3 [20000/60000 (33%)]\tLoss: 0.327556\n",
      "Train Epoch: 3 [40000/60000 (67%)]\tLoss: 0.346909\n",
      "\n",
      "Test set: Average loss: 0.0019, Accuracy: 8651/10000 (87%)\n",
      "\n",
      "Train Epoch: 4 [0/60000 (0%)]\tLoss: 0.319779\n",
      "Train Epoch: 4 [20000/60000 (33%)]\tLoss: 0.316209\n",
      "Train Epoch: 4 [40000/60000 (67%)]\tLoss: 0.335042\n",
      "\n",
      "Test set: Average loss: 0.0018, Accuracy: 8741/10000 (87%)\n",
      "\n",
      "Train Epoch: 5 [0/60000 (0%)]\tLoss: 0.329965\n",
      "Train Epoch: 5 [20000/60000 (33%)]\tLoss: 0.270824\n",
      "Train Epoch: 5 [40000/60000 (67%)]\tLoss: 0.268550\n",
      "\n",
      "Test set: Average loss: 0.0018, Accuracy: 8724/10000 (87%)\n",
      "\n",
      "Train Epoch: 6 [0/60000 (0%)]\tLoss: 0.229288\n",
      "Train Epoch: 6 [20000/60000 (33%)]\tLoss: 0.262567\n",
      "Train Epoch: 6 [40000/60000 (67%)]\tLoss: 0.291137\n",
      "\n",
      "Test set: Average loss: 0.0017, Accuracy: 8729/10000 (87%)\n",
      "\n",
      "Train Epoch: 7 [0/60000 (0%)]\tLoss: 0.280852\n",
      "Train Epoch: 7 [20000/60000 (33%)]\tLoss: 0.288257\n",
      "Train Epoch: 7 [40000/60000 (67%)]\tLoss: 0.349848\n",
      "\n",
      "Test set: Average loss: 0.0017, Accuracy: 8777/10000 (88%)\n",
      "\n",
      "Train Epoch: 8 [0/60000 (0%)]\tLoss: 0.217528\n",
      "Train Epoch: 8 [20000/60000 (33%)]\tLoss: 0.325559\n",
      "Train Epoch: 8 [40000/60000 (67%)]\tLoss: 0.369673\n",
      "\n",
      "Test set: Average loss: 0.0017, Accuracy: 8798/10000 (88%)\n",
      "\n",
      "Train Epoch: 9 [0/60000 (0%)]\tLoss: 0.264961\n",
      "Train Epoch: 9 [20000/60000 (33%)]\tLoss: 0.288051\n",
      "Train Epoch: 9 [40000/60000 (67%)]\tLoss: 0.284161\n",
      "\n",
      "Test set: Average loss: 0.0017, Accuracy: 8787/10000 (88%)\n",
      "\n",
      "Train Epoch: 10 [0/60000 (0%)]\tLoss: 0.239635\n",
      "Train Epoch: 10 [20000/60000 (33%)]\tLoss: 0.385601\n",
      "Train Epoch: 10 [40000/60000 (67%)]\tLoss: 0.287603\n",
      "\n",
      "Test set: Average loss: 0.0016, Accuracy: 8835/10000 (88%)\n",
      "\n",
      "Train Epoch: 11 [0/60000 (0%)]\tLoss: 0.347077\n",
      "Train Epoch: 11 [20000/60000 (33%)]\tLoss: 0.183629\n",
      "Train Epoch: 11 [40000/60000 (67%)]\tLoss: 0.284490\n",
      "\n",
      "Test set: Average loss: 0.0016, Accuracy: 8818/10000 (88%)\n",
      "\n",
      "Train Epoch: 12 [0/60000 (0%)]\tLoss: 0.267471\n",
      "Train Epoch: 12 [20000/60000 (33%)]\tLoss: 0.244130\n",
      "Train Epoch: 12 [40000/60000 (67%)]\tLoss: 0.244917\n",
      "\n",
      "Test set: Average loss: 0.0016, Accuracy: 8829/10000 (88%)\n",
      "\n",
      "Train Epoch: 13 [0/60000 (0%)]\tLoss: 0.172333\n",
      "Train Epoch: 13 [20000/60000 (33%)]\tLoss: 0.205332\n",
      "Train Epoch: 13 [40000/60000 (67%)]\tLoss: 0.169927\n",
      "\n",
      "Test set: Average loss: 0.0016, Accuracy: 8884/10000 (89%)\n",
      "\n",
      "Train Epoch: 14 [0/60000 (0%)]\tLoss: 0.256947\n",
      "Train Epoch: 14 [20000/60000 (33%)]\tLoss: 0.198825\n",
      "Train Epoch: 14 [40000/60000 (67%)]\tLoss: 0.286359\n",
      "\n",
      "Test set: Average loss: 0.0017, Accuracy: 8851/10000 (89%)\n",
      "\n",
      "Train Epoch: 15 [0/60000 (0%)]\tLoss: 0.217380\n",
      "Train Epoch: 15 [20000/60000 (33%)]\tLoss: 0.145793\n",
      "Train Epoch: 15 [40000/60000 (67%)]\tLoss: 0.244691\n",
      "\n",
      "Test set: Average loss: 0.0017, Accuracy: 8868/10000 (89%)\n",
      "\n",
      "Train Epoch: 16 [0/60000 (0%)]\tLoss: 0.178736\n",
      "Train Epoch: 16 [20000/60000 (33%)]\tLoss: 0.187733\n",
      "Train Epoch: 16 [40000/60000 (67%)]\tLoss: 0.208735\n",
      "\n",
      "Test set: Average loss: 0.0017, Accuracy: 8842/10000 (88%)\n",
      "\n",
      "Train Epoch: 17 [0/60000 (0%)]\tLoss: 0.303551\n",
      "Train Epoch: 17 [20000/60000 (33%)]\tLoss: 0.139720\n",
      "Train Epoch: 17 [40000/60000 (67%)]\tLoss: 0.200845\n",
      "\n",
      "Test set: Average loss: 0.0018, Accuracy: 8805/10000 (88%)\n",
      "\n",
      "Train Epoch: 18 [0/60000 (0%)]\tLoss: 0.257130\n",
      "Train Epoch: 18 [20000/60000 (33%)]\tLoss: 0.169067\n",
      "Train Epoch: 18 [40000/60000 (67%)]\tLoss: 0.140545\n",
      "\n",
      "Test set: Average loss: 0.0017, Accuracy: 8888/10000 (89%)\n",
      "\n",
      "Train Epoch: 19 [0/60000 (0%)]\tLoss: 0.115787\n",
      "Train Epoch: 19 [20000/60000 (33%)]\tLoss: 0.184525\n",
      "Train Epoch: 19 [40000/60000 (67%)]\tLoss: 0.160077\n",
      "\n",
      "Test set: Average loss: 0.0017, Accuracy: 8895/10000 (89%)\n",
      "\n",
      "Train Epoch: 20 [0/60000 (0%)]\tLoss: 0.196664\n",
      "Train Epoch: 20 [20000/60000 (33%)]\tLoss: 0.223167\n",
      "Train Epoch: 20 [40000/60000 (67%)]\tLoss: 0.153513\n",
      "\n",
      "Test set: Average loss: 0.0019, Accuracy: 8850/10000 (88%)\n",
      "\n",
      "Train Epoch: 21 [0/60000 (0%)]\tLoss: 0.176569\n",
      "Train Epoch: 21 [20000/60000 (33%)]\tLoss: 0.123430\n",
      "Train Epoch: 21 [40000/60000 (67%)]\tLoss: 0.164654\n",
      "\n",
      "Test set: Average loss: 0.0018, Accuracy: 8794/10000 (88%)\n",
      "\n",
      "Train Epoch: 22 [0/60000 (0%)]\tLoss: 0.175541\n",
      "Train Epoch: 22 [20000/60000 (33%)]\tLoss: 0.143961\n",
      "Train Epoch: 22 [40000/60000 (67%)]\tLoss: 0.283044\n",
      "\n",
      "Test set: Average loss: 0.0017, Accuracy: 8903/10000 (89%)\n",
      "\n",
      "Train Epoch: 23 [0/60000 (0%)]\tLoss: 0.197068\n",
      "Train Epoch: 23 [20000/60000 (33%)]\tLoss: 0.229068\n",
      "Train Epoch: 23 [40000/60000 (67%)]\tLoss: 0.255844\n",
      "\n",
      "Test set: Average loss: 0.0018, Accuracy: 8894/10000 (89%)\n",
      "\n",
      "Train Epoch: 24 [0/60000 (0%)]\tLoss: 0.158528\n",
      "Train Epoch: 24 [20000/60000 (33%)]\tLoss: 0.217346\n",
      "Train Epoch: 24 [40000/60000 (67%)]\tLoss: 0.157931\n",
      "\n",
      "Test set: Average loss: 0.0019, Accuracy: 8945/10000 (89%)\n",
      "\n"
     ]
    }
   ],
   "source": [
    "# Your code here\n",
    "\n",
    "# save the previous loss values (SGD with momentum) to plot them later\n",
    "all_losses = [losses.copy()]\n",
    "\n",
    "\n",
    "torch.manual_seed(0) # seed for reproductibility\n",
    "model = FCModel2(input_size, (256,128,64), output_size)\n",
    "model.to(device)\n",
    "\n",
    "# RMSProp with default parameters\n",
    "optimizer = optim.RMSprop(model.parameters())\n",
    "\n",
    "# training loop\n",
    "losses = {\"train\": [], \"val\": []}\n",
    "for epoch in range(25):\n",
    "    train_loss = train(epoch, criterion, model, optimizer, train_loader)\n",
    "    val_loss = validate(criterion, model, val_loader)\n",
    "    losses[\"train\"].append(train_loss)\n",
    "    losses[\"val\"].append(val_loss)\n",
    "        \n",
    "all_losses.append(losses.copy())\n",
    "\n",
    "\n",
    "\n",
    "torch.manual_seed(0) # seed for reproductibility\n",
    "model = FCModel2(input_size, (256,128,64), output_size)\n",
    "model.to(device)\n",
    "\n",
    "# Adam with default parameters\n",
    "optimizer = optim.Adam(model.parameters())\n",
    "\n",
    "# training loop\n",
    "losses = {\"train\": [], \"val\": []}\n",
    "for epoch in range(25):\n",
    "    train_loss = train(epoch, criterion, model, optimizer, train_loader)\n",
    "    val_loss = validate(criterion, model, val_loader)\n",
    "    losses[\"train\"].append(train_loss)\n",
    "    losses[\"val\"].append(val_loss)\n",
    "        \n",
    "all_losses.append(losses.copy())"
   ]
  },
  {
   "cell_type": "code",
   "execution_count": 21,
   "metadata": {},
   "outputs": [
    {
     "data": {
      "image/png": "[encoded data removed]",
      "text/plain": [
       "<Figure size 432x288 with 2 Axes>"
      ]
     },
     "metadata": {
      "needs_background": "light"
     },
     "output_type": "display_data"
    }
   ],
   "source": [
    "# Create two subplots \n",
    "f, (ax1, ax2) = plt.subplots(1, 2, sharey=True)\n",
    "\n",
    "ax1.set_title('Training loss')\n",
    "#discard the first value because it is usually very large\n",
    "ax1.plot(all_losses[0][\"train\"][1:], label=\"SGD with momentum\") \n",
    "ax1.plot(all_losses[1][\"train\"][1:], label=\"RMSProp\")\n",
    "ax1.plot(all_losses[2][\"train\"][1:], label=\"Adam\")\n",
    "\n",
    "ax2.set_title('Validation loss')\n",
    "ax2.plot(all_losses[0][\"val\"], label=\"SGD with momentum\")\n",
    "ax2.plot(all_losses[1][\"val\"], label=\"RMSProp\")\n",
    "ax2.plot(all_losses[2][\"val\"], label=\"Adam\")\n",
    "\n",
    "plt.legend()\n",
    "plt.show()   "
   ]
  },
  {
   "cell_type": "markdown",
   "metadata": {},
   "source": [
    "D) Calculate the Accuracy for each individual class in the dataset and plot the [confusion matrix](https://scikit-learn.org/stable/modules/generated/sklearn.metrics.plot_confusion_matrix.html#sklearn.metrics.plot_confusion_matrix) of your trained models."
   ]
  },
  {
   "cell_type": "code",
   "execution_count": 47,
   "metadata": {},
   "outputs": [
    {
     "data": {
      "text/plain": [
       "<sklearn.metrics._plot.confusion_matrix.ConfusionMatrixDisplay at 0x7f56e792b128>"
      ]
     },
     "execution_count": 47,
     "metadata": {},
     "output_type": "execute_result"
    },
    {
     "data": {
      "image/png": "[encoded data removed]",
      "text/plain": [
       "<Figure size 432x288 with 2 Axes>"
      ]
     },
     "metadata": {
      "needs_background": "light"
     },
     "output_type": "display_data"
    }
   ],
   "source": [
    "# Your code here\n",
    "\n",
    "from sklearn.metrics import confusion_matrix, ConfusionMatrixDisplay\n",
    "\n",
    "@torch.no_grad()  # prevent this function from computing gradients \n",
    "def evaluate(model, loader):\n",
    "\n",
    "    predictions = []\n",
    "    true = []\n",
    "\n",
    "    model.eval()\n",
    "\n",
    "    for data, target in loader:\n",
    "\n",
    "        data, target = data.to(device), target.to(device)\n",
    "\n",
    "        data = data.view(-1, 28*28)\n",
    "        output = model(data)\n",
    "        predictions += np.argmax(output.cpu().numpy(), axis=1).tolist()\n",
    "        true += target.cpu().numpy().tolist()\n",
    "        \n",
    "    return true, predictions\n",
    "\n",
    "true, pred = evaluate(model, val_loader)\n",
    "cm = confusion_matrix(true, pred)\n",
    "\n",
    "disp = ConfusionMatrixDisplay(confusion_matrix=cm, display_labels=val_set.classes)\n",
    "disp.plot(xticks_rotation='vertical') "
   ]
  },
  {
   "cell_type": "markdown",
   "metadata": {},
   "source": [
    "It may also be useful to visualize some qualitative examples of classification "
   ]
  },
  {
   "cell_type": "code",
   "execution_count": 56,
   "metadata": {},
   "outputs": [
    {
     "data": {
      "image/png": "[encoded data removed]",
      "text/plain": [
       "<Figure size 1152x432 with 10 Axes>"
      ]
     },
     "metadata": {
      "needs_background": "light"
     },
     "output_type": "display_data"
    }
   ],
   "source": [
    "with torch.no_grad():\n",
    "\n",
    "    data, target = next(iter(val_loader))\n",
    "    data, target = data.to(device), target.to(device)\n",
    "\n",
    "    data = data.view(-1, 28*28)\n",
    "    output = model(data)\n",
    "    predictions = np.argmax(output.cpu().numpy(), axis=1).tolist()\n",
    "    true = target.cpu().numpy().tolist()\n",
    "      \n",
    "    plt.figure(figsize=(16, 6))\n",
    "    for i in range(10):\n",
    "        plt.subplot(2, 5, i + 1)\n",
    "        image = data[i,...].cpu().numpy().reshape((28,28))\n",
    "        plt.imshow(image, cmap=\"gray\")\n",
    "        plt.axis('off')\n",
    "        plt.title('Predicted as {}\\n True label is {}'.format(val_set.classes[predictions[i]], val_set.classes[true[i]], ))"
   ]
  },
  {
   "cell_type": "code",
   "execution_count": null,
   "metadata": {},
   "outputs": [],
   "source": []
  }
 ],
 "metadata": {
  "accelerator": "GPU",
  "colab": {
   "authorship_tag": "ABX9TyMtjWCsaZkieM/xNNLaY9ws",
   "collapsed_sections": [],
   "include_colab_link": true,
   "name": "MLP for Images.ipynb",
   "provenance": []
  },
  "kernelspec": {
   "display_name": "Python 3",
   "language": "python",
   "name": "python3"
  },
  "language_info": {
   "codemirror_mode": {
    "name": "ipython",
    "version": 3
   },
   "file_extension": ".py",
   "mimetype": "text/x-python",
   "name": "python",
   "nbconvert_exporter": "python",
   "pygments_lexer": "ipython3",
   "version": "3.7.9"
  }
 },
 "nbformat": 4,
 "nbformat_minor": 4
}
