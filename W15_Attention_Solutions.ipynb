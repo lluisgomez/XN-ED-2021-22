{
  "cells": [
    {
      "cell_type": "markdown",
      "metadata": {
        "id": "-JGr-h1xvTOZ"
      },
      "source": [
        "# MNIST Simple Pointer Network\n",
        "\n",
        "In this notebook we will learn how to create a simple [Pointer Network](https://arxiv.org/abs/1506.03134) (Vinyals et al. 2015) for solving a dummy task on the MNIST dataset.\n",
        "\n",
        "A Pointer Network uses the **attention mechanism’s** output to model the conditional probability of each element on its input. This can be extremely useful in tasks that require selecting one (or more) elements of the input sequence/set to be solved.\n",
        "\n",
        "In this notebook we will play with a simple Pointer net to solve the following task: Given an MNIST image with a (query) digit we want our model to find the image that contains the consecutive digit to the query image among a set of input images. For example, imagine we use an image with the digit \"5\" as query and let the input of the model be a set of 10 images with different digits, the output of our model must be a probability distribution over those 10 images indicating the presence or not of the digit \"6\" in each of them."
      ]
    },
    {
      "cell_type": "code",
      "execution_count": null,
      "metadata": {
        "colab": {
          "base_uri": "https://localhost:8080/"
        },
        "id": "UZuI62-_ABu-",
        "outputId": "f6beebc7-baf0-410a-c917-ce6b9075b865"
      },
      "outputs": [
        {
          "output_type": "stream",
          "name": "stdout",
          "text": [
            "PyTorch Version:  1.11.0+cu113\n",
            "Using device: cuda:0\n"
          ]
        }
      ],
      "source": [
        "from __future__ import print_function \n",
        "from __future__ import division\n",
        "import torch\n",
        "import torch.nn as nn\n",
        "import torch.optim as optim\n",
        "import numpy as np\n",
        "from torch.utils.data import Dataset, DataLoader\n",
        "from torchvision import datasets, transforms\n",
        "\n",
        "\n",
        "import matplotlib.pyplot as plt\n",
        "from collections import Counter\n",
        "import time\n",
        "import os\n",
        "import copy\n",
        "print(\"PyTorch Version: \",torch.__version__)\n",
        "\n",
        "%matplotlib inline\n",
        "\n",
        "\n",
        "# Detect if we have a GPU available\n",
        "device = torch.device(\"cuda:0\" if torch.cuda.is_available() else \"cpu\")\n",
        "print(\"Using device:\", device)"
      ]
    },
    {
      "cell_type": "markdown",
      "metadata": {
        "id": "CyM0DXter9Mp"
      },
      "source": [
        "### Create the dataset\n",
        "\n",
        "Let's start creating a Dataset class to understand better the task we want to solve. Each sample in out dataset will be formed by:\n",
        "\n",
        "* a query image\n",
        "* a set of 10 images, 9 of them selected randomly (distractors) and one selected as the consecutive digit of the digit in the query image.\n",
        "* the ground truth: a 10-D one hot vector indicating the position of the image we want our model to select (\"point to\")."
      ]
    },
    {
      "cell_type": "code",
      "execution_count": null,
      "metadata": {
        "id": "XksdVS7GHWw0"
      },
      "outputs": [],
      "source": [
        "class MNISTAttentionDataset(Dataset):\n",
        "    \"\"\"MNIST attention toy dataset.\"\"\"\n",
        "\n",
        "    def __init__(self, num_inputs, train=True):\n",
        "        \"\"\"\n",
        "        Args:\n",
        "            num_inputs (int) - The number of images in the input of our model.\n",
        "            train (bool, optional) – If True, creates dataset from MNIST training\n",
        "                samples, otherwise from test\n",
        "        \"\"\"\n",
        "        \n",
        "        self.num_inputs = num_inputs\n",
        "        self.mnist = datasets.MNIST('../data', train=train, download=True)\n",
        "        \n",
        "        # dict with samples for each class label\n",
        "        self.data = {}\n",
        "        for label in range(10):\n",
        "            self.data[label] = self.mnist.data[self.mnist.targets == label] / 255.\n",
        "\n",
        "        \n",
        "\n",
        "    def __len__(self):\n",
        "        return self.mnist.data.shape[0]\n",
        "\n",
        "    def __getitem__(self, idx):\n",
        "\n",
        "        c = np.random.randint(0,10)\n",
        "        idx = np.random.randint(0, self.data[c].shape[0])\n",
        "        query = self.data[c][idx,:].flatten()\n",
        "\n",
        "        correct_pos = np.random.randint(0,self.num_inputs)\n",
        "        \n",
        "        inputs = np.zeros((self.num_inputs, 784))\n",
        "        for j in range(self.num_inputs):\n",
        "          if j == correct_pos:\n",
        "            idx = np.random.randint(0,self.data[(c+1)%10].shape[0])\n",
        "            inputs[j,:] = self.data[(c+1)%10][idx,:].flatten()\n",
        "          else:\n",
        "            c_distractor = np.random.choice([n for n in [0,1,2,3,4,5,6,7,8,9] if n!=(c+1)%10])\n",
        "            idx = np.random.randint(0,self.data[c_distractor].shape[0])\n",
        "            inputs[j,:] = self.data[c_distractor][idx,:].flatten()\n",
        "            \n",
        "        sample = {'x': inputs, 'query': query, 'y': correct_pos}\n",
        "\n",
        "        return sample\n",
        "\n"
      ]
    },
    {
      "cell_type": "code",
      "execution_count": null,
      "metadata": {
        "id": "hL2kwN-kpjUc"
      },
      "outputs": [],
      "source": [
        "num_inputs = 10\n",
        "\n",
        "train_dataset = MNISTAttentionDataset(num_inputs, train=True)\n",
        "test_dataset = MNISTAttentionDataset(num_inputs, train=False)\n",
        "\n",
        "train_kwargs = {'batch_size': 64}\n",
        "test_kwargs  = {'batch_size': 1000}\n",
        "\n",
        "cuda_kwargs = {'num_workers': 0,\n",
        "               'pin_memory': True,\n",
        "               'shuffle': True}\n",
        "train_kwargs.update(cuda_kwargs)\n",
        "test_kwargs.update(cuda_kwargs)\n",
        "\n",
        "train_loader = DataLoader(train_dataset, **train_kwargs)\n",
        "test_loader  = DataLoader(test_dataset, **test_kwargs)"
      ]
    },
    {
      "cell_type": "markdown",
      "metadata": {
        "id": "RES5R0CMr3bE"
      },
      "source": [
        "### Visualize one training sample"
      ]
    },
    {
      "cell_type": "code",
      "execution_count": null,
      "metadata": {
        "colab": {
          "base_uri": "https://localhost:8080/",
          "height": 158
        },
        "id": "fJY6zR_lqR41",
        "outputId": "f4092e5f-80cf-4926-9af6-f4db6cc4304f"
      },
      "outputs": [
        {
          "output_type": "stream",
          "name": "stdout",
          "text": [
            "(10, 784) torch.Size([784])\n"
          ]
        },
        {
          "output_type": "display_data",
          "data": {
            "text/plain": [
              "<Figure size 2376x216 with 11 Axes>"
            ],
            "image/png": "[encoded data removed]"
          },
          "metadata": {
            "needs_background": "light"
          }
        }
      ],
      "source": [
        "sample = train_dataset[0]\n",
        "\n",
        "print(sample['x'].shape, sample['query'].shape)\n",
        "\n",
        "fig = plt.figure(figsize=(33, 3))\n",
        "plt.tight_layout()\n",
        "\n",
        "ax = plt.subplot(1, num_inputs + 1, 1)\n",
        "image = sample['query'].reshape(28,28)\n",
        "plt.imshow(image, cmap='gray')\n",
        "plt.plot([0,27,27,0,0], [0,0,27,27,0], c='b')\n",
        "ax.set_title('Query')\n",
        "ax.axis('off')\n",
        "\n",
        "for i in range(num_inputs):\n",
        "    ax = plt.subplot(1, num_inputs + 1, i+2)\n",
        "    ax.set_title('Sample #{}'.format(i))\n",
        "    ax.axis('off')\n",
        "    image = sample['x'][i].reshape(28,28)\n",
        "    plt.imshow(image, cmap='gray')\n",
        "    if i == sample['y']:\n",
        "      plt.plot([0,27,27,0,0], [0,0,27,27,0], c='g')\n",
        "      ax.set_title('Target')\n",
        "    else:\n",
        "      plt.plot([0,27,27,0,0], [0,0,27,27,0], c='r')\n",
        "      ax.set_title('Distractor #{}'.format(i))\n",
        "    ax.axis('off')\n",
        "  \n",
        "\n",
        "\n",
        "ax.axis('off')\n",
        "\n",
        "plt.show()"
      ]
    },
    {
      "cell_type": "markdown",
      "metadata": {
        "id": "DVaMM-n2sFF6"
      },
      "source": [
        "### Create the model"
      ]
    },
    {
      "cell_type": "code",
      "execution_count": null,
      "metadata": {
        "id": "BesD8B1BAW9u"
      },
      "outputs": [],
      "source": [
        "class AttentionModel(nn.Module):\n",
        "    def __init__(self, input_dim, num_inputs, hidden_dim):\n",
        "        super(AttentionModel, self).__init__()\n",
        "        self.hidden_dim = hidden_dim\n",
        "        self.num_inputs = num_inputs\n",
        "        self.input_dim  = input_dim\n",
        "\n",
        "        # Weights (Fully Connected layers) \n",
        "        self.fc_q = nn.Linear(input_dim, hidden_dim) # Query FC\n",
        "        self.fc_k = nn.Linear(input_dim, hidden_dim) # Keys FC. Here the input acts as the keys, and there is no value\n",
        "        self.fc_v = nn.Linear(hidden_dim, 1) # Values FC\n",
        "\n",
        "    def scoringAdditive(self, query, keys):\n",
        "        #Query is                                               (B X 1 X input_dim)\n",
        "        # Repeat (tile) the query so that it has the same size as the keys (input)\n",
        "        query = query.repeat(1, self.num_inputs, 1)           # (B X num_inputs X input_dim)\n",
        "        query = torch.tanh(self.fc_q(query))                  # (B X num_inputs X hidden_dim)\n",
        "\n",
        "        #Keys is                                                (B X num_inputs X input_dim)\n",
        "        keys = torch.tanh(self.fc_k(keys))                    # (B X num_inputs X hidden_dim)\n",
        "        score = torch.tanh(query + keys )                     # (B X num_inputs X hidden_dim)\n",
        "        score = self.fc_v(score)                              # (B X num_inputs X 1)        \n",
        "        return score\n",
        "\n",
        "    def forward(self, x, query):\n",
        "        query = query.unsqueeze(1) # (B x input_dim) -> (B x 1 x input_dim)\n",
        "        \n",
        "        # Calculate attention scores\n",
        "        output = self.scoringAdditive(query, x)\n",
        "        output = output.squeeze()       # (B x 1 x num_inputs) -> (B x num_inputs)\n",
        "        return output"
      ]
    },
    {
      "cell_type": "markdown",
      "metadata": {
        "id": "y_yCyvgg9Pbj"
      },
      "source": [
        "<font color=\"blue\">\n",
        "\n",
        "**QUESTION**: The Additive score gives logits that we should pass through a softmax to get the final attention weights. Why is there no softmax in the model above?</font>"
      ]
    },
    {
      "cell_type": "markdown",
      "metadata": {
        "id": "fwNECJnUDNBE"
      },
      "source": [
        "<font color=\"green\">\n",
        "    \n",
        "**ANSWER**: The loss function we use to train this, although is the `nn.CrossEntropyLoss()`. Although it is called \"CrossEntropy\" in reality it expects logits, and does the softmax and the cross entropy jointly. This is why we do not do softmax explicitly before.</font>"
      ]
    },
    {
      "cell_type": "code",
      "execution_count": null,
      "metadata": {
        "colab": {
          "base_uri": "https://localhost:8080/"
        },
        "id": "nsyUZE0lHJ5-",
        "outputId": "3ee3d07e-aaff-4384-ef3e-187746b8660c"
      },
      "outputs": [
        {
          "output_type": "stream",
          "name": "stdout",
          "text": [
            "AttentionModel(\n",
            "  (fc_q): Linear(in_features=784, out_features=256, bias=True)\n",
            "  (fc_k): Linear(in_features=784, out_features=256, bias=True)\n",
            "  (fc_v): Linear(in_features=256, out_features=1, bias=True)\n",
            ")\n"
          ]
        }
      ],
      "source": [
        "input_dim, num_inputs, hidden_dim = (784, 10, 256)\n",
        "\n",
        "model = AttentionModel(input_dim, num_inputs, hidden_dim)\n",
        "print(model)"
      ]
    },
    {
      "cell_type": "markdown",
      "metadata": {
        "id": "xmp0kuk2z3Rx"
      },
      "source": [
        "### Define the training method and train"
      ]
    },
    {
      "cell_type": "code",
      "execution_count": null,
      "metadata": {
        "id": "6ZvGWqwDrc-V"
      },
      "outputs": [],
      "source": [
        "def train(model, device, train_loader, criterion, optimizer, epoch):\n",
        "    # Method to perform one epoch of training\n",
        "    model.train()\n",
        "    loss_values = []\n",
        "    for batch_idx, sample_batched in enumerate(train_loader):\n",
        "        data = sample_batched['x'].float()\n",
        "        query = sample_batched['query'].float()\n",
        "        target = sample_batched['y']\n",
        "        #print(data.shape, query.shape)\n",
        "        data, query, target = data.to(device), query.to(device), target.to(device)\n",
        "        \n",
        "        optimizer.zero_grad()\n",
        "        output = model(data, query)\n",
        "        loss = criterion(output, target)\n",
        "        loss_values.append(loss.detach().cpu().numpy())\n",
        "        loss.backward()\n",
        "        optimizer.step()\n",
        "        if batch_idx % log_interval == 0:\n",
        "            print('Train Epoch: {} [{}/{} ({:.0f}%)]\\tLoss: {:.6f}'.format(\n",
        "                epoch, batch_idx * len(data), len(train_loader.dataset),\n",
        "                100. * batch_idx / len(train_loader), loss.item()))\n",
        "        \n",
        "    return loss_values"
      ]
    },
    {
      "cell_type": "code",
      "execution_count": null,
      "metadata": {
        "colab": {
          "base_uri": "https://localhost:8080/"
        },
        "id": "L_ZTvDKRz9yx",
        "outputId": "f6b2be7f-4dc8-4b65-c05c-e27d2a9cb3ed"
      },
      "outputs": [
        {
          "output_type": "stream",
          "name": "stdout",
          "text": [
            "Train Epoch: 1 [0/60000 (0%)]\tLoss: 2.305063\n",
            "Train Epoch: 1 [6400/60000 (11%)]\tLoss: 1.698086\n",
            "Train Epoch: 1 [12800/60000 (21%)]\tLoss: 1.172141\n",
            "Train Epoch: 1 [19200/60000 (32%)]\tLoss: 0.840435\n",
            "Train Epoch: 1 [25600/60000 (43%)]\tLoss: 0.745771\n",
            "Train Epoch: 1 [32000/60000 (53%)]\tLoss: 0.616521\n",
            "Train Epoch: 1 [38400/60000 (64%)]\tLoss: 0.483020\n",
            "Train Epoch: 1 [44800/60000 (75%)]\tLoss: 0.557374\n",
            "Train Epoch: 1 [51200/60000 (85%)]\tLoss: 0.547336\n",
            "Train Epoch: 1 [57600/60000 (96%)]\tLoss: 0.532275\n",
            "Train Epoch: 2 [0/60000 (0%)]\tLoss: 0.510775\n",
            "Train Epoch: 2 [6400/60000 (11%)]\tLoss: 0.550929\n",
            "Train Epoch: 2 [12800/60000 (21%)]\tLoss: 0.437685\n",
            "Train Epoch: 2 [19200/60000 (32%)]\tLoss: 0.429042\n",
            "Train Epoch: 2 [25600/60000 (43%)]\tLoss: 0.379633\n",
            "Train Epoch: 2 [32000/60000 (53%)]\tLoss: 0.488067\n",
            "Train Epoch: 2 [38400/60000 (64%)]\tLoss: 0.549283\n",
            "Train Epoch: 2 [44800/60000 (75%)]\tLoss: 0.283117\n",
            "Train Epoch: 2 [51200/60000 (85%)]\tLoss: 0.341035\n",
            "Train Epoch: 2 [57600/60000 (96%)]\tLoss: 0.360656\n",
            "Train Epoch: 3 [0/60000 (0%)]\tLoss: 0.390003\n",
            "Train Epoch: 3 [6400/60000 (11%)]\tLoss: 0.250023\n",
            "Train Epoch: 3 [12800/60000 (21%)]\tLoss: 0.249275\n",
            "Train Epoch: 3 [19200/60000 (32%)]\tLoss: 0.373384\n",
            "Train Epoch: 3 [25600/60000 (43%)]\tLoss: 0.395310\n",
            "Train Epoch: 3 [32000/60000 (53%)]\tLoss: 0.436071\n",
            "Train Epoch: 3 [38400/60000 (64%)]\tLoss: 0.493328\n",
            "Train Epoch: 3 [44800/60000 (75%)]\tLoss: 0.382338\n",
            "Train Epoch: 3 [51200/60000 (85%)]\tLoss: 0.189823\n",
            "Train Epoch: 3 [57600/60000 (96%)]\tLoss: 0.398342\n",
            "Train Epoch: 4 [0/60000 (0%)]\tLoss: 0.467226\n",
            "Train Epoch: 4 [6400/60000 (11%)]\tLoss: 0.392870\n",
            "Train Epoch: 4 [12800/60000 (21%)]\tLoss: 0.400819\n",
            "Train Epoch: 4 [19200/60000 (32%)]\tLoss: 0.310664\n",
            "Train Epoch: 4 [25600/60000 (43%)]\tLoss: 0.308636\n",
            "Train Epoch: 4 [32000/60000 (53%)]\tLoss: 0.356498\n",
            "Train Epoch: 4 [38400/60000 (64%)]\tLoss: 0.331804\n",
            "Train Epoch: 4 [44800/60000 (75%)]\tLoss: 0.296251\n",
            "Train Epoch: 4 [51200/60000 (85%)]\tLoss: 0.270946\n",
            "Train Epoch: 4 [57600/60000 (96%)]\tLoss: 0.174633\n",
            "Train Epoch: 5 [0/60000 (0%)]\tLoss: 0.499587\n",
            "Train Epoch: 5 [6400/60000 (11%)]\tLoss: 0.181071\n",
            "Train Epoch: 5 [12800/60000 (21%)]\tLoss: 0.262526\n",
            "Train Epoch: 5 [19200/60000 (32%)]\tLoss: 0.436626\n",
            "Train Epoch: 5 [25600/60000 (43%)]\tLoss: 0.291377\n",
            "Train Epoch: 5 [32000/60000 (53%)]\tLoss: 0.339983\n",
            "Train Epoch: 5 [38400/60000 (64%)]\tLoss: 0.300220\n",
            "Train Epoch: 5 [44800/60000 (75%)]\tLoss: 0.363384\n",
            "Train Epoch: 5 [51200/60000 (85%)]\tLoss: 0.390883\n",
            "Train Epoch: 5 [57600/60000 (96%)]\tLoss: 0.263742\n",
            "Train Epoch: 6 [0/60000 (0%)]\tLoss: 0.267335\n",
            "Train Epoch: 6 [6400/60000 (11%)]\tLoss: 0.339152\n",
            "Train Epoch: 6 [12800/60000 (21%)]\tLoss: 0.351528\n",
            "Train Epoch: 6 [19200/60000 (32%)]\tLoss: 0.447260\n",
            "Train Epoch: 6 [25600/60000 (43%)]\tLoss: 0.324827\n",
            "Train Epoch: 6 [32000/60000 (53%)]\tLoss: 0.307496\n",
            "Train Epoch: 6 [38400/60000 (64%)]\tLoss: 0.313322\n",
            "Train Epoch: 6 [44800/60000 (75%)]\tLoss: 0.360326\n",
            "Train Epoch: 6 [51200/60000 (85%)]\tLoss: 0.277009\n",
            "Train Epoch: 6 [57600/60000 (96%)]\tLoss: 0.137749\n",
            "Train Epoch: 7 [0/60000 (0%)]\tLoss: 0.154581\n",
            "Train Epoch: 7 [6400/60000 (11%)]\tLoss: 0.231833\n",
            "Train Epoch: 7 [12800/60000 (21%)]\tLoss: 0.152698\n",
            "Train Epoch: 7 [19200/60000 (32%)]\tLoss: 0.234952\n",
            "Train Epoch: 7 [25600/60000 (43%)]\tLoss: 0.422212\n",
            "Train Epoch: 7 [32000/60000 (53%)]\tLoss: 0.201477\n",
            "Train Epoch: 7 [38400/60000 (64%)]\tLoss: 0.173840\n",
            "Train Epoch: 7 [44800/60000 (75%)]\tLoss: 0.278734\n",
            "Train Epoch: 7 [51200/60000 (85%)]\tLoss: 0.347370\n",
            "Train Epoch: 7 [57600/60000 (96%)]\tLoss: 0.352793\n",
            "Train Epoch: 8 [0/60000 (0%)]\tLoss: 0.193619\n",
            "Train Epoch: 8 [6400/60000 (11%)]\tLoss: 0.215395\n",
            "Train Epoch: 8 [12800/60000 (21%)]\tLoss: 0.393382\n",
            "Train Epoch: 8 [19200/60000 (32%)]\tLoss: 0.199825\n",
            "Train Epoch: 8 [25600/60000 (43%)]\tLoss: 0.197072\n",
            "Train Epoch: 8 [32000/60000 (53%)]\tLoss: 0.367741\n",
            "Train Epoch: 8 [38400/60000 (64%)]\tLoss: 0.196919\n",
            "Train Epoch: 8 [44800/60000 (75%)]\tLoss: 0.232831\n",
            "Train Epoch: 8 [51200/60000 (85%)]\tLoss: 0.390130\n",
            "Train Epoch: 8 [57600/60000 (96%)]\tLoss: 0.323463\n",
            "Train Epoch: 9 [0/60000 (0%)]\tLoss: 0.180671\n",
            "Train Epoch: 9 [6400/60000 (11%)]\tLoss: 0.249472\n",
            "Train Epoch: 9 [12800/60000 (21%)]\tLoss: 0.317052\n",
            "Train Epoch: 9 [19200/60000 (32%)]\tLoss: 0.137355\n",
            "Train Epoch: 9 [25600/60000 (43%)]\tLoss: 0.295828\n",
            "Train Epoch: 9 [32000/60000 (53%)]\tLoss: 0.206122\n",
            "Train Epoch: 9 [38400/60000 (64%)]\tLoss: 0.179998\n",
            "Train Epoch: 9 [44800/60000 (75%)]\tLoss: 0.149879\n",
            "Train Epoch: 9 [51200/60000 (85%)]\tLoss: 0.323544\n",
            "Train Epoch: 9 [57600/60000 (96%)]\tLoss: 0.130840\n",
            "Train Epoch: 10 [0/60000 (0%)]\tLoss: 0.155930\n",
            "Train Epoch: 10 [6400/60000 (11%)]\tLoss: 0.232667\n",
            "Train Epoch: 10 [12800/60000 (21%)]\tLoss: 0.210605\n",
            "Train Epoch: 10 [19200/60000 (32%)]\tLoss: 0.281106\n",
            "Train Epoch: 10 [25600/60000 (43%)]\tLoss: 0.345062\n",
            "Train Epoch: 10 [32000/60000 (53%)]\tLoss: 0.197507\n",
            "Train Epoch: 10 [38400/60000 (64%)]\tLoss: 0.131946\n",
            "Train Epoch: 10 [44800/60000 (75%)]\tLoss: 0.145310\n",
            "Train Epoch: 10 [51200/60000 (85%)]\tLoss: 0.152689\n",
            "Train Epoch: 10 [57600/60000 (96%)]\tLoss: 0.153311\n"
          ]
        }
      ],
      "source": [
        "model = model.to(device)\n",
        "\n",
        "optimizer = optim.Adam(model.parameters())\n",
        "\n",
        "criterion = nn.CrossEntropyLoss()\n",
        "\n",
        "epochs = 10\n",
        "\n",
        "log_interval = 100 # how many batches to wait before logging training status\n",
        "\n",
        "loss_history = []\n",
        "for epoch in range(1, epochs + 1):\n",
        "    loss_values = train(model, device, train_loader, criterion, optimizer, epoch)\n",
        "    loss_history += loss_values"
      ]
    },
    {
      "cell_type": "code",
      "execution_count": null,
      "metadata": {
        "colab": {
          "base_uri": "https://localhost:8080/",
          "height": 286
        },
        "id": "V1VFBe_Y0Cxx",
        "outputId": "30d8f230-6153-4f66-c717-35a4b4f48336"
      },
      "outputs": [
        {
          "output_type": "execute_result",
          "data": {
            "text/plain": [
              "[<matplotlib.lines.Line2D at 0x7f899005f410>]"
            ]
          },
          "metadata": {},
          "execution_count": 29
        },
        {
          "output_type": "display_data",
          "data": {
            "text/plain": [
              "<Figure size 432x288 with 1 Axes>"
            ],
            "image/png": "[encoded data removed]"
          },
          "metadata": {
            "needs_background": "light"
          }
        }
      ],
      "source": [
        "plt.plot(loss_history)"
      ]
    },
    {
      "cell_type": "markdown",
      "metadata": {
        "id": "jONlgxyaEwC6"
      },
      "source": [
        "### Evaluate the trained model"
      ]
    },
    {
      "cell_type": "code",
      "execution_count": null,
      "metadata": {
        "id": "izgtCdk5DV01"
      },
      "outputs": [],
      "source": [
        "def evaluate(model, device, test_loader):\n",
        "    model.eval()\n",
        "    total = 0.\n",
        "    ok = 0.\n",
        "    for batch_idx, sample_batched in enumerate(test_loader):\n",
        "        data = sample_batched['x'].float()\n",
        "        query = sample_batched['query'].float()\n",
        "        target = sample_batched['y'].numpy()\n",
        "        data, query = data.to(device), query.to(device)\n",
        "        \n",
        "        output = model(data, query)\n",
        "        pred = np.argmax(output.detach().cpu().numpy(), axis=1)\n",
        "       \n",
        "        ok += np.sum(pred == target)\n",
        "        total += len(test_loader)\n",
        "                \n",
        "    print('Accuracy = ', ok/total)"
      ]
    },
    {
      "cell_type": "code",
      "execution_count": null,
      "metadata": {
        "colab": {
          "base_uri": "https://localhost:8080/"
        },
        "id": "JYQGuAXpGNU7",
        "outputId": "bb570cf1-90cf-42aa-a185-c14ddf16afbd"
      },
      "outputs": [
        {
          "output_type": "stream",
          "name": "stdout",
          "text": [
            "Accuracy =  91.9\n"
          ]
        }
      ],
      "source": [
        "evaluate(model, device, test_loader)"
      ]
    },
    {
      "cell_type": "markdown",
      "metadata": {
        "id": "CaOoDxjhhjxz"
      },
      "source": [
        "<font color=\"blue\">\n",
        "\n",
        "**EXERCISE 1**: Starting from the previous model as a template, implement the Dot-product Attention scoring function and substitute the additive one we were using before. Retrain and evalute the model.</font>\n",
        "\n",
        "<font color=\"blue\">\n",
        "\n",
        "> Hint: To transpose a tensor along specific dimensions you can use `torch.permute()`\n",
        "</font>\n",
        "\n",
        "\n",
        "<font color=\"blue\">\n",
        "\n",
        "> Hint: To perform a batch matrix-matrix product, use the function `torch.bmm()` https://pytorch.org/docs/stable/generated/torch.bmm.html \n",
        "</font>"
      ]
    },
    {
      "cell_type": "code",
      "execution_count": null,
      "metadata": {
        "id": "y_b4Hy7ADNBM"
      },
      "outputs": [],
      "source": [
        "# YOUR CODE HERE\n"
      ]
    },
    {
      "cell_type": "code",
      "execution_count": null,
      "metadata": {
        "id": "Mb9fpvTqGSob"
      },
      "outputs": [],
      "source": [
        "# SOLUTION\n",
        "\n",
        "class AttentionModel_Dot(nn.Module):\n",
        "    def __init__(self, input_dim, num_inputs, hidden_dim):\n",
        "        super(AttentionModel_Dot, self).__init__()\n",
        "        self.hidden_dim = hidden_dim\n",
        "        self.num_inputs = num_inputs\n",
        "        self.input_dim  = input_dim\n",
        "\n",
        "        # Weights (Fully Connected layers) \n",
        "        self.fc_q = nn.Linear(input_dim, hidden_dim) # Query FC\n",
        "        self.fc_k = nn.Linear(input_dim, hidden_dim) # Keys FC. Here the input acts as the keys, and there is no value\n",
        "        self.fc_v = nn.Linear(hidden_dim, 1) # Values FC\n",
        "\n",
        "    def scoringAdditive(self, query, keys):\n",
        "        #Query is                                               (B X 1 X input_dim)\n",
        "        # Repeat (tile) the query so that it has the same size as the keys (input)\n",
        "        query = query.repeat(1, self.num_inputs, 1)           # (B X num_inputs X input_dim)\n",
        "        query = torch.tanh(self.fc_q(query))                  # (B X num_inputs X hidden_dim)\n",
        "\n",
        "        #Keys is                                                (B X num_inputs X input_dim)\n",
        "        keys = torch.tanh(self.fc_k(keys))                    # (B X num_inputs X hidden_dim)\n",
        "        score = torch.tanh(query + keys )                     # (B X num_inputs X hidden_dim)\n",
        "        score = self.fc_v(score)                              # (B X num_inputs X 1)        \n",
        "        return score\n",
        "\n",
        "    def scoringDot(self, query, keys):        \n",
        "        #Query is                                               (B X 1 X input_dim)\n",
        "        query = torch.tanh(self.fc_q(query))                  # (B X 1 X hidden_dim)\n",
        "        #Keys is                                                (B X num_inputs X input_dim)\n",
        "        keys = torch.tanh(self.fc_k(keys))                    # (B X num_inputs X hidden_dim)\n",
        "\n",
        "        keys = keys.permute(0,2,1)                            # (B X hidden_dim X num_inputs)\n",
        "        score = torch.bmm(query, keys)                        # (B X 1 X num_inputs)\n",
        "        score /= np.sqrt(num_inputs)\n",
        "        score = score.permute(0,2,1)                          # (B X num_inputs x 1)\n",
        "        return score\n",
        "\n",
        "    def forward(self, x, query):\n",
        "        query = query.unsqueeze(1) # (B x input_dim) -> (B x 1 x input_dim)\n",
        "        \n",
        "        # Calculate attention scores\n",
        "        output = self.scoringDot(query, x)\n",
        "        output = output.squeeze()       # (B x 1 x num_inputs) -> (B x num_inputs)\n",
        "        return output"
      ]
    },
    {
      "cell_type": "code",
      "execution_count": null,
      "metadata": {
        "colab": {
          "base_uri": "https://localhost:8080/"
        },
        "id": "nnrkJiW9mbmt",
        "outputId": "37195dde-ba99-4da5-b556-f45a841b17cf"
      },
      "outputs": [
        {
          "output_type": "stream",
          "name": "stdout",
          "text": [
            "AttentionModel_Dot(\n",
            "  (fc_q): Linear(in_features=784, out_features=256, bias=True)\n",
            "  (fc_k): Linear(in_features=784, out_features=256, bias=True)\n",
            "  (fc_v): Linear(in_features=256, out_features=1, bias=True)\n",
            ")\n"
          ]
        }
      ],
      "source": [
        "# SOLUTION (cont)\n",
        "\n",
        "input_dim, num_inputs, hidden_dim = (784, 10, 256)\n",
        "\n",
        "modelDot = AttentionModel_Dot(input_dim, num_inputs, hidden_dim)\n",
        "print(modelDot)"
      ]
    },
    {
      "cell_type": "code",
      "execution_count": null,
      "metadata": {
        "colab": {
          "base_uri": "https://localhost:8080/"
        },
        "id": "P5tl4ZS3mrjb",
        "outputId": "cee76c49-0524-4d8b-bc3e-ffc80ad9b6ab"
      },
      "outputs": [
        {
          "output_type": "stream",
          "name": "stdout",
          "text": [
            "Train Epoch: 1 [0/60000 (0%)]\tLoss: 2.288806\n",
            "Train Epoch: 1 [6400/60000 (11%)]\tLoss: 1.179607\n",
            "Train Epoch: 1 [12800/60000 (21%)]\tLoss: 0.745618\n",
            "Train Epoch: 1 [19200/60000 (32%)]\tLoss: 0.775333\n",
            "Train Epoch: 1 [25600/60000 (43%)]\tLoss: 1.017786\n",
            "Train Epoch: 1 [32000/60000 (53%)]\tLoss: 0.815794\n",
            "Train Epoch: 1 [38400/60000 (64%)]\tLoss: 0.483762\n",
            "Train Epoch: 1 [44800/60000 (75%)]\tLoss: 0.413168\n",
            "Train Epoch: 1 [51200/60000 (85%)]\tLoss: 0.377601\n",
            "Train Epoch: 1 [57600/60000 (96%)]\tLoss: 0.323278\n",
            "Train Epoch: 2 [0/60000 (0%)]\tLoss: 0.444749\n",
            "Train Epoch: 2 [6400/60000 (11%)]\tLoss: 0.388522\n",
            "Train Epoch: 2 [12800/60000 (21%)]\tLoss: 0.474860\n",
            "Train Epoch: 2 [19200/60000 (32%)]\tLoss: 0.408333\n",
            "Train Epoch: 2 [25600/60000 (43%)]\tLoss: 0.129659\n",
            "Train Epoch: 2 [32000/60000 (53%)]\tLoss: 0.339016\n",
            "Train Epoch: 2 [38400/60000 (64%)]\tLoss: 0.290997\n",
            "Train Epoch: 2 [44800/60000 (75%)]\tLoss: 0.315909\n",
            "Train Epoch: 2 [51200/60000 (85%)]\tLoss: 0.252778\n",
            "Train Epoch: 2 [57600/60000 (96%)]\tLoss: 0.377045\n",
            "Train Epoch: 3 [0/60000 (0%)]\tLoss: 0.359163\n",
            "Train Epoch: 3 [6400/60000 (11%)]\tLoss: 0.312238\n",
            "Train Epoch: 3 [12800/60000 (21%)]\tLoss: 0.301845\n",
            "Train Epoch: 3 [19200/60000 (32%)]\tLoss: 0.215063\n",
            "Train Epoch: 3 [25600/60000 (43%)]\tLoss: 0.151871\n",
            "Train Epoch: 3 [32000/60000 (53%)]\tLoss: 0.405334\n",
            "Train Epoch: 3 [38400/60000 (64%)]\tLoss: 0.284083\n",
            "Train Epoch: 3 [44800/60000 (75%)]\tLoss: 0.369117\n",
            "Train Epoch: 3 [51200/60000 (85%)]\tLoss: 0.187058\n",
            "Train Epoch: 3 [57600/60000 (96%)]\tLoss: 0.180670\n",
            "Train Epoch: 4 [0/60000 (0%)]\tLoss: 0.244577\n",
            "Train Epoch: 4 [6400/60000 (11%)]\tLoss: 0.186401\n",
            "Train Epoch: 4 [12800/60000 (21%)]\tLoss: 0.334860\n",
            "Train Epoch: 4 [19200/60000 (32%)]\tLoss: 0.171134\n",
            "Train Epoch: 4 [25600/60000 (43%)]\tLoss: 0.184069\n",
            "Train Epoch: 4 [32000/60000 (53%)]\tLoss: 0.230662\n",
            "Train Epoch: 4 [38400/60000 (64%)]\tLoss: 0.211608\n",
            "Train Epoch: 4 [44800/60000 (75%)]\tLoss: 0.228083\n",
            "Train Epoch: 4 [51200/60000 (85%)]\tLoss: 0.138819\n",
            "Train Epoch: 4 [57600/60000 (96%)]\tLoss: 0.403463\n",
            "Train Epoch: 5 [0/60000 (0%)]\tLoss: 0.177008\n",
            "Train Epoch: 5 [6400/60000 (11%)]\tLoss: 0.370372\n",
            "Train Epoch: 5 [12800/60000 (21%)]\tLoss: 0.267175\n",
            "Train Epoch: 5 [19200/60000 (32%)]\tLoss: 0.045125\n",
            "Train Epoch: 5 [25600/60000 (43%)]\tLoss: 0.309531\n",
            "Train Epoch: 5 [32000/60000 (53%)]\tLoss: 0.147252\n",
            "Train Epoch: 5 [38400/60000 (64%)]\tLoss: 0.107620\n",
            "Train Epoch: 5 [44800/60000 (75%)]\tLoss: 0.253052\n",
            "Train Epoch: 5 [51200/60000 (85%)]\tLoss: 0.208258\n",
            "Train Epoch: 5 [57600/60000 (96%)]\tLoss: 0.339402\n",
            "Train Epoch: 6 [0/60000 (0%)]\tLoss: 0.301585\n",
            "Train Epoch: 6 [6400/60000 (11%)]\tLoss: 0.211278\n",
            "Train Epoch: 6 [12800/60000 (21%)]\tLoss: 0.348059\n",
            "Train Epoch: 6 [19200/60000 (32%)]\tLoss: 0.320014\n",
            "Train Epoch: 6 [25600/60000 (43%)]\tLoss: 0.249910\n",
            "Train Epoch: 6 [32000/60000 (53%)]\tLoss: 0.062832\n",
            "Train Epoch: 6 [38400/60000 (64%)]\tLoss: 0.161670\n",
            "Train Epoch: 6 [44800/60000 (75%)]\tLoss: 0.062750\n",
            "Train Epoch: 6 [51200/60000 (85%)]\tLoss: 0.085218\n",
            "Train Epoch: 6 [57600/60000 (96%)]\tLoss: 0.107816\n",
            "Train Epoch: 7 [0/60000 (0%)]\tLoss: 0.178212\n",
            "Train Epoch: 7 [6400/60000 (11%)]\tLoss: 0.108182\n",
            "Train Epoch: 7 [12800/60000 (21%)]\tLoss: 0.088421\n",
            "Train Epoch: 7 [19200/60000 (32%)]\tLoss: 0.211429\n",
            "Train Epoch: 7 [25600/60000 (43%)]\tLoss: 0.238087\n",
            "Train Epoch: 7 [32000/60000 (53%)]\tLoss: 0.133008\n",
            "Train Epoch: 7 [38400/60000 (64%)]\tLoss: 0.363086\n",
            "Train Epoch: 7 [44800/60000 (75%)]\tLoss: 0.137441\n",
            "Train Epoch: 7 [51200/60000 (85%)]\tLoss: 0.167485\n",
            "Train Epoch: 7 [57600/60000 (96%)]\tLoss: 0.216007\n",
            "Train Epoch: 8 [0/60000 (0%)]\tLoss: 0.108340\n",
            "Train Epoch: 8 [6400/60000 (11%)]\tLoss: 0.302966\n",
            "Train Epoch: 8 [12800/60000 (21%)]\tLoss: 0.147232\n",
            "Train Epoch: 8 [19200/60000 (32%)]\tLoss: 0.155319\n",
            "Train Epoch: 8 [25600/60000 (43%)]\tLoss: 0.229325\n",
            "Train Epoch: 8 [32000/60000 (53%)]\tLoss: 0.087430\n",
            "Train Epoch: 8 [38400/60000 (64%)]\tLoss: 0.101421\n",
            "Train Epoch: 8 [44800/60000 (75%)]\tLoss: 0.052244\n",
            "Train Epoch: 8 [51200/60000 (85%)]\tLoss: 0.115826\n",
            "Train Epoch: 8 [57600/60000 (96%)]\tLoss: 0.150095\n",
            "Train Epoch: 9 [0/60000 (0%)]\tLoss: 0.203096\n",
            "Train Epoch: 9 [6400/60000 (11%)]\tLoss: 0.161526\n",
            "Train Epoch: 9 [12800/60000 (21%)]\tLoss: 0.152788\n",
            "Train Epoch: 9 [19200/60000 (32%)]\tLoss: 0.157423\n",
            "Train Epoch: 9 [25600/60000 (43%)]\tLoss: 0.093134\n",
            "Train Epoch: 9 [32000/60000 (53%)]\tLoss: 0.103912\n",
            "Train Epoch: 9 [38400/60000 (64%)]\tLoss: 0.170654\n",
            "Train Epoch: 9 [44800/60000 (75%)]\tLoss: 0.216733\n",
            "Train Epoch: 9 [51200/60000 (85%)]\tLoss: 0.074237\n",
            "Train Epoch: 9 [57600/60000 (96%)]\tLoss: 0.216197\n",
            "Train Epoch: 10 [0/60000 (0%)]\tLoss: 0.234913\n",
            "Train Epoch: 10 [6400/60000 (11%)]\tLoss: 0.138993\n",
            "Train Epoch: 10 [12800/60000 (21%)]\tLoss: 0.167489\n",
            "Train Epoch: 10 [19200/60000 (32%)]\tLoss: 0.144576\n",
            "Train Epoch: 10 [25600/60000 (43%)]\tLoss: 0.097619\n",
            "Train Epoch: 10 [32000/60000 (53%)]\tLoss: 0.098287\n",
            "Train Epoch: 10 [38400/60000 (64%)]\tLoss: 0.096571\n",
            "Train Epoch: 10 [44800/60000 (75%)]\tLoss: 0.113593\n",
            "Train Epoch: 10 [51200/60000 (85%)]\tLoss: 0.062257\n",
            "Train Epoch: 10 [57600/60000 (96%)]\tLoss: 0.139885\n"
          ]
        }
      ],
      "source": [
        "# SOLUTION (cont)\n",
        "\n",
        "modelDot = modelDot.to(device)\n",
        "\n",
        "optimizer = optim.Adam(modelDot.parameters())\n",
        "\n",
        "criterion = nn.CrossEntropyLoss()\n",
        "\n",
        "epochs = 10\n",
        "\n",
        "log_interval = 100 # how many batches to wait before logging training status\n",
        "\n",
        "loss_history = []\n",
        "for epoch in range(1, epochs + 1):\n",
        "    loss_values = train(modelDot, device, train_loader, criterion, optimizer, epoch)\n",
        "    loss_history += loss_values"
      ]
    },
    {
      "cell_type": "code",
      "execution_count": null,
      "metadata": {
        "colab": {
          "base_uri": "https://localhost:8080/"
        },
        "id": "qVzwDR8Sq5yu",
        "outputId": "a02b4559-921f-4a3a-9fa7-908c113f0bb4"
      },
      "outputs": [
        {
          "output_type": "stream",
          "name": "stdout",
          "text": [
            "Accuracy =  94.73\n"
          ]
        }
      ],
      "source": [
        "# SOLUTION (cont)\n",
        "\n",
        "evaluate(modelDot, device, test_loader)"
      ]
    },
    {
      "cell_type": "code",
      "execution_count": null,
      "metadata": {
        "colab": {
          "base_uri": "https://localhost:8080/",
          "height": 283
        },
        "id": "thoAh6pI93hs",
        "outputId": "6edea169-1799-41cc-965f-b17d259964ed"
      },
      "outputs": [
        {
          "output_type": "execute_result",
          "data": {
            "text/plain": [
              "[<matplotlib.lines.Line2D at 0x7f89904cdd50>]"
            ]
          },
          "metadata": {},
          "execution_count": 37
        },
        {
          "output_type": "display_data",
          "data": {
            "text/plain": [
              "<Figure size 432x288 with 1 Axes>"
            ],
            "image/png": "[encoded data removed]"
          },
          "metadata": {
            "needs_background": "light"
          }
        }
      ],
      "source": [
        "# SOLUTION (cont)\n",
        "\n",
        "plt.plot(loss_history)"
      ]
    },
    {
      "cell_type": "code",
      "source": [
        ""
      ],
      "metadata": {
        "id": "LBV-XcAfE4yX"
      },
      "execution_count": null,
      "outputs": []
    }
  ],
  "metadata": {
    "accelerator": "GPU",
    "colab": {
      "collapsed_sections": [],
      "name": "Week 14 - Attention Solutions.ipynb",
      "provenance": [],
      "toc_visible": true
    },
    "kernelspec": {
      "display_name": "pytorch",
      "language": "python",
      "name": "pytorch"
    },
    "language_info": {
      "codemirror_mode": {
        "name": "ipython",
        "version": 3
      },
      "file_extension": ".py",
      "mimetype": "text/x-python",
      "name": "python",
      "nbconvert_exporter": "python",
      "pygments_lexer": "ipython3",
      "version": "3.7.9"
    }
  },
  "nbformat": 4,
  "nbformat_minor": 0
}